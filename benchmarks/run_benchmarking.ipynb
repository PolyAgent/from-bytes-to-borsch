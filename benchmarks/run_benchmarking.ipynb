{
 "cells": [
  {
   "cell_type": "code",
   "execution_count": null,
   "metadata": {},
   "outputs": [],
   "source": [
    "import utils\n",
    "hf_endpoint_url = \"https://your_endpoint.aws.endpoints.huggingface.cloud\"\n",
    "vertex_endpoint_url = \"vertex_endpoint_url\"\n",
    "hf_token = \"your_hf_token\"\n",
    "vertex_token = \"your_vertex_token\"\n",
    "output_file = \"model_answers.json\"\n",
    "input_file = \"../unlp-2024-shared-task/data/zno.train.jsonl\"\n",
    "open_questions = \"../unlp-2024-shared-task/data/open-questions.test.jsonl\""
   ]
  },
  {
   "cell_type": "markdown",
   "metadata": {},
   "source": [
    "utils contains scripts for API requests to HuggingFace and Vertex AI endpoints. The responces are stored in an output file at every iteration."
   ]
  },
  {
   "cell_type": "code",
   "execution_count": null,
   "metadata": {},
   "outputs": [],
   "source": [
    "utils.run_hf(url=hf_endpoint_url, token=hf_token, output_file=output_file, input_file= input_file, verbose=True )\n"
   ]
  },
  {
   "cell_type": "code",
   "execution_count": null,
   "metadata": {},
   "outputs": [],
   "source": [
    "utils.run_vertex(url=vertex_endpoint_url, token=vertex_token, output_file=output_file, input_file=open_questions, open_questions=True, verbose=True )\n"
   ]
  },
  {
   "cell_type": "code",
   "execution_count": null,
   "metadata": {},
   "outputs": [],
   "source": [
    "utils.measure_metrics(gt_file=input_file,predictions_file=output_file)"
   ]
  }
 ],
 "metadata": {
  "kernelspec": {
   "display_name": "git_train",
   "language": "python",
   "name": "python3"
  },
  "language_info": {
   "codemirror_mode": {
    "name": "ipython",
    "version": 3
   },
   "file_extension": ".py",
   "mimetype": "text/x-python",
   "name": "python",
   "nbconvert_exporter": "python",
   "pygments_lexer": "ipython3",
   "version": "3.11.7"
  }
 },
 "nbformat": 4,
 "nbformat_minor": 2
}
